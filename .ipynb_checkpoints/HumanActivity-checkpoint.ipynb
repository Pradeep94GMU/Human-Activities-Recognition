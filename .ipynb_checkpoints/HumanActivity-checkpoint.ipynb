{
 "cells": [
  {
   "cell_type": "code",
   "execution_count": 1,
   "id": "4a30a9a3-8519-4a92-8c61-c3030be21568",
   "metadata": {},
   "outputs": [],
   "source": [
    "import os\n",
    "import pandas as pd\n",
    "from scipy.signal import savgol_filter\n",
    "import zipfile\n",
    "import matplotlib.pyplot as plt\n",
    "import seaborn as sns\n",
    "from sklearn.metrics import confusion_matrix\n",
    "import pandas as pd\n",
    "from scipy.signal import savgol_filter\n",
    "import numpy as np\n",
    "import scipy.stats as stats\n",
    "from sklearn.metrics import accuracy_score\n",
    "from sklearn.svm import SVC\n"
   ]
  },
  {
   "cell_type": "code",
   "execution_count": 2,
   "id": "c3b4383e-1c9d-4395-8ef5-5f5bae104384",
   "metadata": {},
   "outputs": [
    {
     "name": "stdout",
     "output_type": "stream",
     "text": [
      "Number of windows: 3358\n",
      "Number of Data's (Rows, Col): (389571, 6)\n",
      "activity\n",
      "walking         76444\n",
      "standing        51381\n",
      "stairUp         42041\n",
      "liftDown        39879\n",
      "stairDown       35867\n",
      "waving          32043\n",
      "liftUp          31388\n",
      "running         23915\n",
      "sitting         23184\n",
      "sweeping        22126\n",
      "bodyrotating     6940\n",
      "liftwt           2472\n",
      "rotating         1891\n",
      "Name: count, dtype: int64\n"
     ]
    }
   ],
   "source": [
    "\n",
    "def read_and_label_files(directory, activity_prefix):\n",
    "    data_list = []\n",
    "    for filename in os.listdir(directory):\n",
    "        if filename.startswith(activity_prefix) and filename.endswith('.csv'):\n",
    "            file_path = os.path.join(directory, filename)\n",
    "            data = pd.read_csv(file_path)\n",
    "            data = smooth_data(data)  # Applying smoothing filter\n",
    "            data['activity'] = activity_prefix  # Using the activity prefix as the label\n",
    "            data_list.append(data)\n",
    "    return pd.concat(data_list, ignore_index=True)\n",
    "\n",
    "def smooth_data(data):\n",
    "    for column in ['x', 'y', 'z']:\n",
    "        data[column] = savgol_filter(data[column], window_length=15, polyorder=3)\n",
    "    return data\n",
    "\n",
    "def segment_into_windows(data, points_per_window):\n",
    "    windows = []\n",
    "    for start in range(0, len(data), points_per_window):\n",
    "        end = start + points_per_window\n",
    "        # Discarding the last window if it has fewer points than `points_per_window`\n",
    "        if end <= len(data):\n",
    "            window = data.iloc[start:end]\n",
    "            windows.append(window)\n",
    "    return windows\n",
    "\n",
    "# Example usage\n",
    "walking_data = read_and_label_files('/Users/Pradeep/Desktop/aalll CS655/MLHAR/my_files/Walking', 'walking')\n",
    "sitting_data = read_and_label_files('/Users/Pradeep/Desktop/aalll CS655/MLHAR/my_files/Sitting', 'sitting')\n",
    "running_data = read_and_label_files('/Users/Pradeep/Desktop/aalll CS655/MLHAR/my_files/Running', 'running')\n",
    "rotating_data = read_and_label_files('/Users/Pradeep/Desktop/aalll CS655/MLHAR/my_files/Rotating', 'rotating')\n",
    "standing_data = read_and_label_files('/Users/Pradeep/Desktop/aalll CS655/MLHAR/my_files/Standing', 'standing')\n",
    "liftUp_data = read_and_label_files('/Users/Pradeep/Desktop/aalll CS655/MLHAR/my_files/ElevatorUp', 'liftUp')\n",
    "liftDown_data = read_and_label_files('/Users/Pradeep/Desktop/aalll CS655/MLHAR/my_files/ElevatorDown', 'liftDown')\n",
    "# stairUp_data = read_and_label_files('/Users/Pradeep/Desktop/aalll CS655/MLHAR/my_files/StairUp', 'stairUp')\n",
    "# stairDown_data = read_and_label_files('/Users/Pradeep/Desktop/aalll CS655/MLHAR/my_files/StairDown', 'stairDown')\n",
    "sweeping_data = read_and_label_files('/Users/Pradeep/Desktop/aalll CS655/MLHAR/my_files/Sweeping', 'sweeping')\n",
    "bodyrotating_data = read_and_label_files('/Users/Pradeep/Desktop/aalll CS655/MLHAR/my_files/BodyRotating', 'bodyrotating')\n",
    "# driving_data = read_and_label_files('/Users/Pradeep/Desktop/aalll CS655/MLHAR/my_files/Driving', 'Driving')\n",
    "waving_data = read_and_label_files('/Users/Pradeep/Desktop/aalll CS655/MLHAR/my_files/Waving', 'waving')\n",
    "liftwt_data = read_and_label_files('/Users/Pradeep/Desktop/aalll CS655/MLHAR/my_files/liftingwt', 'liftwt')\n",
    "\n",
    "\n",
    "\n",
    "# driving_data,  stairUp_data, stairDown_data,\n",
    "# Combine all data \n",
    "all_data = pd.concat([walking_data, sitting_data,running_data,rotating_data,standing_data,liftUp_data, liftDown_data, sweeping_data, bodyrotating_data,liftwt_data,waving_data], ignore_index=True)\n",
    "all_data.shape\n",
    "\n",
    "# Segmenting into windows\n",
    "points_per_window = 58 * 2  # 58 Hz * 2 seconds\n",
    "windows = segment_into_windows(all_data, points_per_window)\n",
    "\n",
    "# Now, `windows` is a list where each element is a DataFrame representing a 2-second window\n",
    "print(f\"Number of windows: {len(windows)}\")\n",
    "print(f\"Number of Data's (Rows, Col): {all_data.shape}\")\n",
    "activity_counts = all_data['activity'].value_counts()\n",
    "print(activity_counts)\n"
   ]
  },
  {
   "cell_type": "code",
   "execution_count": 3,
   "id": "ae8b7518-c20c-4f15-b841-dea6498f87d9",
   "metadata": {},
   "outputs": [],
   "source": [
    "\n",
    "def extract_features(window):\n",
    "    features = {}\n",
    "    \n",
    "    if 'activity' in window.columns:\n",
    "        features['activity'] = window['activity'].iloc[0]\n",
    "    \n",
    "    # Statistical features\n",
    "    for axis in ['x', 'y', 'z']:\n",
    "        data = window[axis]\n",
    "        features[f'{axis}_mean'] = np.mean(data)\n",
    "        features[f'{axis}_std'] = np.std(data)\n",
    "        features[f'{axis}_var'] = np.var(data)\n",
    "        features[f'{axis}_median'] = np.median(data)\n",
    "        features[f'{axis}_skew'] = stats.skew(data)\n",
    "        features[f'{axis}_kurtosis'] = stats.kurtosis(data)\n",
    "    \n",
    "    # Time-domain features\n",
    "    for axis in ['x', 'y', 'z']:\n",
    "        data = window[axis]\n",
    "        features[f'{axis}_rms'] = np.sqrt(np.mean(data**2))\n",
    "        features[f'{axis}_zero_crossing_rate'] = np.sum(np.diff(np.sign(data)) != 0) / len(data)\n",
    "        features[f'{axis}_sma'] = np.sum(np.abs(data))\n",
    "        features[f'{axis}_energy'] = np.sum(data**2)\n",
    "\n",
    "        # Entropy (using histogram for probability distribution)\n",
    "        hist, bin_edges = np.histogram(data, bins=10, density=True)\n",
    "        hist = np.nan_to_num(hist, nan=0.0)  # Replace NaN with 0\n",
    "        hist = hist / hist.sum()  # Normalize to create a probability distribution\n",
    "        entropy = -np.sum(hist * np.log2(hist + 1e-9))  # Log of zero handled by adding a small value (1e-9)\n",
    "        features[f'{axis}_entropy'] = entropy\n",
    "    \n",
    "    # Frequency-domain features (using FFT)\n",
    "    for axis in ['x', 'y', 'z']:\n",
    "        data = window[axis]\n",
    "        fft_values = np.fft.fft(data)\n",
    "        fft_values = np.abs(fft_values)\n",
    "        dominant_frequency = np.argmax(fft_values)\n",
    "        spectral_entropy = -np.sum((fft_values / np.sum(fft_values)) * np.log2(fft_values / np.sum(fft_values) + 1e-9))\n",
    "        features[f'{axis}_dominant_frequency'] = dominant_frequency\n",
    "        features[f'{axis}_spectral_entropy'] = spectral_entropy\n",
    "    \n",
    "    return features\n",
    "\n",
    "\n",
    "window_features = [extract_features(window) for window in windows]\n",
    "\n",
    "# Now, `window_features` is a list where each element is a dictionary containing features for a window\n"
   ]
  },
  {
   "cell_type": "code",
   "execution_count": 4,
   "id": "47c16e77-b2fb-4dae-ab37-b19c5af77649",
   "metadata": {},
   "outputs": [],
   "source": [
    "from sklearn.feature_selection import mutual_info_classif\n",
    "import pandas as pd\n",
    "\n",
    "# Convert the list of feature dictionaries to a DataFrame\n",
    "feature_df = pd.DataFrame(window_features)\n",
    "\n",
    "# Assuming 'activity' is a column in your DataFrame representing the label\n",
    "# If it's not, you should add this column to 'feature_df'\n",
    "\n",
    "# Separating features and target variable\n",
    "X = feature_df.drop('activity', axis=1)  # Features\n",
    "y = feature_df['activity']  # Target variable (activity labels)\n"
   ]
  },
  {
   "cell_type": "code",
   "execution_count": 5,
   "id": "c121b3fb-d974-4e0a-b639-28db78c6dc02",
   "metadata": {},
   "outputs": [
    {
     "name": "stdout",
     "output_type": "stream",
     "text": [
      "activity\n",
      "walking         659\n",
      "standing        443\n",
      "stairUp         363\n",
      "liftDown        344\n",
      "stairDown       309\n",
      "waving          275\n",
      "liftUp          270\n",
      "running         207\n",
      "sitting         200\n",
      "sweeping        190\n",
      "bodyrotating     60\n",
      "liftwt           22\n",
      "rotating         16\n",
      "Name: count, dtype: int64\n"
     ]
    }
   ],
   "source": [
    "feature_df.head()\n",
    "activity_counts = feature_df['activity'].value_counts()\n",
    "print(activity_counts)\n"
   ]
  },
  {
   "cell_type": "code",
   "execution_count": null,
   "id": "b99dc0a7-e47e-463a-99c9-5765878c432b",
   "metadata": {},
   "outputs": [],
   "source": []
  },
  {
   "cell_type": "code",
   "execution_count": 6,
   "id": "990387c0-00cb-4ad6-a264-049c768babe2",
   "metadata": {},
   "outputs": [
    {
     "name": "stdout",
     "output_type": "stream",
     "text": [
      "Random forest Accuracy: 89.29%\n",
      "              precision    recall  f1-score   support\n",
      "\n",
      "bodyrotating       1.00      1.00      1.00        10\n",
      "    liftDown       0.68      0.84      0.75        61\n",
      "      liftUp       0.77      0.58      0.66        57\n",
      "      liftwt       1.00      1.00      1.00         2\n",
      "    rotating       1.00      1.00      1.00         4\n",
      "     running       1.00      0.97      0.99        35\n",
      "     sitting       0.98      1.00      0.99        40\n",
      "   stairDown       0.88      0.86      0.87        59\n",
      "     stairUp       0.80      0.78      0.79        76\n",
      "    standing       1.00      0.97      0.98        87\n",
      "    sweeping       1.00      1.00      1.00        34\n",
      "     walking       0.91      0.94      0.92       155\n",
      "      waving       1.00      1.00      1.00        52\n",
      "\n",
      "    accuracy                           0.89       672\n",
      "   macro avg       0.92      0.92      0.92       672\n",
      "weighted avg       0.89      0.89      0.89       672\n",
      "\n"
     ]
    }
   ],
   "source": [
    "from sklearn.model_selection import train_test_split\n",
    "from sklearn.ensemble import RandomForestClassifier\n",
    "from sklearn.tree import DecisionTreeClassifier\n",
    "from sklearn.metrics import classification_report\n",
    "from sklearn.neighbors import KNeighborsClassifier\n",
    "from sklearn.ensemble import GradientBoostingClassifier\n",
    "from sklearn.naive_bayes import GaussianNB\n",
    "\n",
    "#shuffle=True,stratify=y\n",
    "\n",
    "from sklearn.model_selection import train_test_split\n",
    "from xgboost import XGBClassifier\n",
    "from sklearn.metrics import accuracy_score\n",
    "from sklearn.preprocessing import LabelEncoder\n",
    "from sklearn.metrics import classification_report\n",
    "\n",
    "# Splitting the data\n",
    "X_train, X_test, y_train, y_test = train_test_split(X, y, test_size=0.2, random_state=42)\n",
    "\n",
    "\n",
    "# Model Training\n",
    "rf_model = RandomForestClassifier(n_estimators=300, random_state=42)\n",
    "rf_model.fit(X_train, y_train)\n",
    "y_pred = rf_model.predict(X_test)\n",
    "\n",
    "# Calculate accuracy\n",
    "accuracy = accuracy_score(y_test, y_pred)\n",
    "\n",
    "# Model Evaluation\n",
    "print(f\"Random forest Accuracy: {accuracy * 100:.2f}%\")\n",
    "print(classification_report(y_test, y_pred))\n"
   ]
  },
  {
   "cell_type": "code",
   "execution_count": null,
   "id": "5ceaf730-0312-446d-aa37-16ac9e270b0e",
   "metadata": {},
   "outputs": [],
   "source": []
  },
  {
   "cell_type": "code",
   "execution_count": 7,
   "id": "38aa32ad-9645-4eb3-8044-44f33367f331",
   "metadata": {},
   "outputs": [
    {
     "data": {
      "text/plain": [
       "activity\n",
       "walking         155\n",
       "standing         87\n",
       "stairUp          76\n",
       "liftDown         61\n",
       "stairDown        59\n",
       "liftUp           57\n",
       "waving           52\n",
       "sitting          40\n",
       "running          35\n",
       "sweeping         34\n",
       "bodyrotating     10\n",
       "rotating          4\n",
       "liftwt            2\n",
       "Name: count, dtype: int64"
      ]
     },
     "execution_count": 7,
     "metadata": {},
     "output_type": "execute_result"
    }
   ],
   "source": [
    "y_test.value_counts()"
   ]
  },
  {
   "cell_type": "code",
   "execution_count": 8,
   "id": "9152304d-44a8-461f-abfe-af1f08f0e653",
   "metadata": {},
   "outputs": [
    {
     "data": {
      "image/png": "[encoded data removed]",
      "text/plain": [
       "<Figure size 800x600 with 2 Axes>"
      ]
     },
     "metadata": {},
     "output_type": "display_data"
    }
   ],
   "source": [
    "import numpy as np\n",
    "import matplotlib.pyplot as plt\n",
    "import seaborn as sns\n",
    "from sklearn.metrics import confusion_matrix\n",
    "\n",
    "# Compute confusion matrix\n",
    "confusion = confusion_matrix( y_test, y_pred)\n",
    "\n",
    "# Define class/activity labels\n",
    "#'Driving',  'stairDown','StairsUp',\n",
    "class_labels = ['BodyRotating','ElevatorDown','ElevatorUp','liftingWeight','Chairrotating','running', 'sitting','standing', 'Sweeping','walking','waving' ] \n",
    "\n",
    "plt.figure(figsize=(8, 6))\n",
    "sns.heatmap(confusion, annot=True, fmt='d', cmap='Blues', xticklabels=class_labels, yticklabels=class_labels)\n",
    "plt.xlabel('Predicted')\n",
    "plt.ylabel('Actual')\n",
    "plt.title('Confusion Matrix')\n",
    "plt.show()"
   ]
  },
  {
   "cell_type": "code",
   "execution_count": 9,
   "id": "a1226e3c-3355-425a-a784-0e8d4401b9d5",
   "metadata": {},
   "outputs": [
    {
     "data": {
      "text/plain": [
       "['HAR1_trained_model.joblib']"
      ]
     },
     "execution_count": 9,
     "metadata": {},
     "output_type": "execute_result"
    }
   ],
   "source": [
    "from joblib import dump\n",
    "\n",
    "# Save the model to a file\n",
    "model_filename = 'HAR1_trained_model.joblib'\n",
    "dump(rf_model, model_filename)\n"
   ]
  },
  {
   "cell_type": "code",
   "execution_count": 10,
   "id": "60d7263f-e308-42d0-9db3-e062553cc0c4",
   "metadata": {},
   "outputs": [],
   "source": [
    "from joblib import load\n",
    "\n",
    "# Load the model from the file\n",
    "rf_model = load(model_filename)\n"
   ]
  },
  {
   "cell_type": "code",
   "execution_count": 11,
   "id": "07ea6660-7d07-4385-8a60-c90562bad7cb",
   "metadata": {},
   "outputs": [
    {
     "data": {
      "text/html": [
       "<style>#sk-container-id-1 {color: black;}#sk-container-id-1 pre{padding: 0;}#sk-container-id-1 div.sk-toggleable {background-color: white;}#sk-container-id-1 label.sk-toggleable__label {cursor: pointer;display: block;width: 100%;margin-bottom: 0;padding: 0.3em;box-sizing: border-box;text-align: center;}#sk-container-id-1 label.sk-toggleable__label-arrow:before {content: \"▸\";float: left;margin-right: 0.25em;color: #696969;}#sk-container-id-1 label.sk-toggleable__label-arrow:hover:before {color: black;}#sk-container-id-1 div.sk-estimator:hover label.sk-toggleable__label-arrow:before {color: black;}#sk-container-id-1 div.sk-toggleable__content {max-height: 0;max-width: 0;overflow: hidden;text-align: left;background-color: #f0f8ff;}#sk-container-id-1 div.sk-toggleable__content pre {margin: 0.2em;color: black;border-radius: 0.25em;background-color: #f0f8ff;}#sk-container-id-1 input.sk-toggleable__control:checked~div.sk-toggleable__content {max-height: 200px;max-width: 100%;overflow: auto;}#sk-container-id-1 input.sk-toggleable__control:checked~label.sk-toggleable__label-arrow:before {content: \"▾\";}#sk-container-id-1 div.sk-estimator input.sk-toggleable__control:checked~label.sk-toggleable__label {background-color: #d4ebff;}#sk-container-id-1 div.sk-label input.sk-toggleable__control:checked~label.sk-toggleable__label {background-color: #d4ebff;}#sk-container-id-1 input.sk-hidden--visually {border: 0;clip: rect(1px 1px 1px 1px);clip: rect(1px, 1px, 1px, 1px);height: 1px;margin: -1px;overflow: hidden;padding: 0;position: absolute;width: 1px;}#sk-container-id-1 div.sk-estimator {font-family: monospace;background-color: #f0f8ff;border: 1px dotted black;border-radius: 0.25em;box-sizing: border-box;margin-bottom: 0.5em;}#sk-container-id-1 div.sk-estimator:hover {background-color: #d4ebff;}#sk-container-id-1 div.sk-parallel-item::after {content: \"\";width: 100%;border-bottom: 1px solid gray;flex-grow: 1;}#sk-container-id-1 div.sk-label:hover label.sk-toggleable__label {background-color: #d4ebff;}#sk-container-id-1 div.sk-serial::before {content: \"\";position: absolute;border-left: 1px solid gray;box-sizing: border-box;top: 0;bottom: 0;left: 50%;z-index: 0;}#sk-container-id-1 div.sk-serial {display: flex;flex-direction: column;align-items: center;background-color: white;padding-right: 0.2em;padding-left: 0.2em;position: relative;}#sk-container-id-1 div.sk-item {position: relative;z-index: 1;}#sk-container-id-1 div.sk-parallel {display: flex;align-items: stretch;justify-content: center;background-color: white;position: relative;}#sk-container-id-1 div.sk-item::before, #sk-container-id-1 div.sk-parallel-item::before {content: \"\";position: absolute;border-left: 1px solid gray;box-sizing: border-box;top: 0;bottom: 0;left: 50%;z-index: -1;}#sk-container-id-1 div.sk-parallel-item {display: flex;flex-direction: column;z-index: 1;position: relative;background-color: white;}#sk-container-id-1 div.sk-parallel-item:first-child::after {align-self: flex-end;width: 50%;}#sk-container-id-1 div.sk-parallel-item:last-child::after {align-self: flex-start;width: 50%;}#sk-container-id-1 div.sk-parallel-item:only-child::after {width: 0;}#sk-container-id-1 div.sk-dashed-wrapped {border: 1px dashed gray;margin: 0 0.4em 0.5em 0.4em;box-sizing: border-box;padding-bottom: 0.4em;background-color: white;}#sk-container-id-1 div.sk-label label {font-family: monospace;font-weight: bold;display: inline-block;line-height: 1.2em;}#sk-container-id-1 div.sk-label-container {text-align: center;}#sk-container-id-1 div.sk-container {/* jupyter's `normalize.less` sets `[hidden] { display: none; }` but bootstrap.min.css set `[hidden] { display: none !important; }` so we also need the `!important` here to be able to override the default hidden behavior on the sphinx rendered scikit-learn.org. See: https://github.com/scikit-learn/scikit-learn/issues/21755 */display: inline-block !important;position: relative;}#sk-container-id-1 div.sk-text-repr-fallback {display: none;}</style><div id=\"sk-container-id-1\" class=\"sk-top-container\"><div class=\"sk-text-repr-fallback\"><pre>RandomForestClassifier(n_estimators=300, random_state=42)</pre><b>In a Jupyter environment, please rerun this cell to show the HTML representation or trust the notebook. <br />On GitHub, the HTML representation is unable to render, please try loading this page with nbviewer.org.</b></div><div class=\"sk-container\" hidden><div class=\"sk-item\"><div class=\"sk-estimator sk-toggleable\"><input class=\"sk-toggleable__control sk-hidden--visually\" id=\"sk-estimator-id-1\" type=\"checkbox\" checked><label for=\"sk-estimator-id-1\" class=\"sk-toggleable__label sk-toggleable__label-arrow\">RandomForestClassifier</label><div class=\"sk-toggleable__content\"><pre>RandomForestClassifier(n_estimators=300, random_state=42)</pre></div></div></div></div></div>"
      ],
      "text/plain": [
       "RandomForestClassifier(n_estimators=300, random_state=42)"
      ]
     },
     "execution_count": 11,
     "metadata": {},
     "output_type": "execute_result"
    }
   ],
   "source": [
    "rf_model"
   ]
  },
  {
   "cell_type": "code",
   "execution_count": 12,
   "id": "5e5dede8-af2d-445e-8779-aaac96ce095a",
   "metadata": {},
   "outputs": [
    {
     "data": {
      "text/plain": [
       "array(['stairUp', 'stairUp', 'stairUp', 'running', 'running', 'running',\n",
       "       'running', 'running', 'running', 'running', 'running', 'running',\n",
       "       'stairUp', 'standing', 'standing', 'standing', 'standing',\n",
       "       'standing', 'walking', 'walking', 'walking', 'walking', 'walking',\n",
       "       'walking', 'walking', 'walking', 'walking', 'walking', 'standing',\n",
       "       'standing', 'standing', 'standing', 'sitting', 'sitting',\n",
       "       'sitting', 'sitting', 'sitting', 'sitting'], dtype=object)"
      ]
     },
     "execution_count": 12,
     "metadata": {},
     "output_type": "execute_result"
    }
   ],
   "source": [
    "\n",
    "unseen_data = pd.read_csv('Unseen/UnseenwalSit.csv') \n",
    "smoothed_unseen_data = smooth_data(unseen_data)\n",
    "# Segment into windows     \n",
    "unseen_windows = segment_into_windows(unseen_data, points_per_window=58*2)\n",
    "# Extract features from each window\n",
    "unseen_window_features = [extract_features(window) for window in unseen_windows]\n",
    "# Convert to DataFrame\n",
    "unseen_feature_df = pd.DataFrame(unseen_window_features)\n",
    "# Load the saved model\n",
    "rf_model = load('HAR1_trained_model.joblib')\n",
    "# Make predictions\n",
    "unseen_predictions = rf_model.predict(unseen_feature_df)\n",
    "# Now 'unseen_predictions' contains the predicted activities for each window\n",
    "unseen_predictions\n",
    "# unseen_feature_df.columns\n"
   ]
  },
  {
   "cell_type": "code",
   "execution_count": 13,
   "id": "8b18fcce-3b52-4a1b-a955-2d0a354289ed",
   "metadata": {},
   "outputs": [
    {
     "name": "stdout",
     "output_type": "stream",
     "text": [
      "stairUp: Count=4, Percentage=10.53%\n",
      "running: Count=9, Percentage=23.68%\n",
      "standing: Count=9, Percentage=23.68%\n",
      "walking: Count=10, Percentage=26.32%\n",
      "sitting: Count=6, Percentage=15.79%\n"
     ]
    },
    {
     "data": {
      "text/plain": [
       "array(['stairUp', 'stairUp', 'stairUp', 'running', 'running', 'running',\n",
       "       'running', 'running', 'running', 'running', 'running', 'running',\n",
       "       'stairUp', 'standing', 'standing', 'standing', 'standing',\n",
       "       'standing', 'walking', 'walking', 'walking', 'walking', 'walking',\n",
       "       'walking', 'walking', 'walking', 'walking', 'walking', 'standing',\n",
       "       'standing', 'standing', 'standing', 'sitting', 'sitting',\n",
       "       'sitting', 'sitting', 'sitting', 'sitting'], dtype=object)"
      ]
     },
     "execution_count": 13,
     "metadata": {},
     "output_type": "execute_result"
    }
   ],
   "source": [
    "\n",
    "from collections import Counter\n",
    "# Calculate the count of each activity\n",
    "activity_counts = Counter(unseen_predictions)\n",
    "\n",
    "# Calculate the total count of all activities\n",
    "total_count = len(unseen_predictions)\n",
    "\n",
    "# Calculate the percentage of each activity\n",
    "activity_percentages = {activity: count / total_count * 100 for activity, count in activity_counts.items()}\n",
    "\n",
    "# Print the counts and percentages\n",
    "for activity, count in activity_counts.items():\n",
    "    percentage = activity_percentages[activity]\n",
    "    print(f'{activity}: Count={count}, Percentage={percentage:.2f}%')\n",
    "unseen_predictions"
   ]
  },
  {
   "cell_type": "code",
   "execution_count": null,
   "id": "00f39a55-57ed-4dba-b0b5-ab6c0ec74906",
   "metadata": {},
   "outputs": [],
   "source": []
  },
  {
   "cell_type": "code",
   "execution_count": null,
   "id": "b028337f-ba5a-400c-9db0-3b876f104542",
   "metadata": {},
   "outputs": [],
   "source": []
  },
  {
   "cell_type": "code",
   "execution_count": null,
   "id": "131ef9c7-5264-4b01-bfc3-b1daee447797",
   "metadata": {},
   "outputs": [],
   "source": []
  },
  {
   "cell_type": "code",
   "execution_count": null,
   "id": "4a89ac1c-0bfb-4d0b-aede-65a80ce2c01f",
   "metadata": {},
   "outputs": [],
   "source": []
  },
  {
   "cell_type": "code",
   "execution_count": null,
   "id": "086cb5c2-663a-40b4-b6c8-12973ccca9c7",
   "metadata": {},
   "outputs": [],
   "source": []
  },
  {
   "cell_type": "code",
   "execution_count": null,
   "id": "cde9cfc4-e4e5-492f-a070-6020a8cfbd2d",
   "metadata": {},
   "outputs": [],
   "source": []
  },
  {
   "cell_type": "code",
   "execution_count": null,
   "id": "f93aa40d-a0f2-4e0b-b90a-716a13c4a83e",
   "metadata": {},
   "outputs": [],
   "source": []
  }
 ],
 "metadata": {
  "kernelspec": {
   "display_name": "Python 3 (ipykernel)",
   "language": "python",
   "name": "python3"
  },
  "language_info": {
   "codemirror_mode": {
    "name": "ipython",
    "version": 3
   },
   "file_extension": ".py",
   "mimetype": "text/x-python",
   "name": "python",
   "nbconvert_exporter": "python",
   "pygments_lexer": "ipython3",
   "version": "3.9.18"
  }
 },
 "nbformat": 4,
 "nbformat_minor": 5
}
